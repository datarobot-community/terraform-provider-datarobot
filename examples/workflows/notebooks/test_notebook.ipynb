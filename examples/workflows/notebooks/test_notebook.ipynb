{
	"cells": [
		{
			"id": "67f06651dde320520f20ee51",
			"cell_type": "markdown",
			"source": "# DataRobot Terraform Provider Test Notebook\n\nWe're working to make using DataRobot and Terraform together easy, especially with notebooks!\n\nPlease take a look at our [terraform-provider-datarobot](https://github.com/datarobot-community/terraform-provider-datarobot)\n",
			"metadata": {
				"collapsed": false,
				"scrolled": false,
				"datarobot": {
					"language": "markdown"
				},
				"hide_code": false,
				"hide_results": false,
				"disable_run": false,
				"chart_settings": null,
				"custom_metric_settings": null,
				"custom_llm_metric_settings": null,
				"dataframe_view_options": null
			}
		},
		{
			"id": "67f0697ddde320520f20ef4f",
			"cell_type": "code",
			"source": "print(\"Hello, world.\")",
			"metadata": {
				"collapsed": false,
				"scrolled": false,
				"datarobot": {
					"language": "python"
				},
				"hide_code": false,
				"hide_results": false,
				"disable_run": false,
				"chart_settings": null,
				"custom_metric_settings": null,
				"custom_llm_metric_settings": null,
				"dataframe_view_options": null
			},
			"outputs": [],
			"execution_count": null
		}
	],
	"metadata": {
		"kernelspec": {
			"name": "python",
			"language": "python",
			"display_name": "Python 3.11"
		},
		"language_info": {
			"name": "python",
			"version": "3.11"
		}
	},
	"nbformat": 4,
	"nbformat_minor": 5
}